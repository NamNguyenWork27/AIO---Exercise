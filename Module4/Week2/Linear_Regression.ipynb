{
 "cells": [
  {
   "cell_type": "code",
   "execution_count": 1,
   "metadata": {},
   "outputs": [],
   "source": [
    "import numpy as np \n",
    "from numpy import genfromtxt \n",
    "import matplotlib.pyplot as plt "
   ]
  },
  {
   "cell_type": "code",
   "execution_count": 3,
   "metadata": {},
   "outputs": [],
   "source": [
    "data = genfromtxt('advertising.csv', delimiter=',', skip_header=1)"
   ]
  },
  {
   "cell_type": "code",
   "execution_count": 5,
   "metadata": {},
   "outputs": [
    {
     "data": {
      "text/plain": [
       "(200, 4)"
      ]
     },
     "execution_count": 5,
     "metadata": {},
     "output_type": "execute_result"
    }
   ],
   "source": [
    "data.shape "
   ]
  },
  {
   "cell_type": "code",
   "execution_count": 6,
   "metadata": {},
   "outputs": [
    {
     "data": {
      "text/plain": [
       "array([[230.1,  37.8,  69.2],\n",
       "       [ 44.5,  39.3,  45.1],\n",
       "       [ 17.2,  45.9,  69.3],\n",
       "       [151.5,  41.3,  58.5],\n",
       "       [180.8,  10.8,  58.4]])"
      ]
     },
     "execution_count": 6,
     "metadata": {},
     "output_type": "execute_result"
    }
   ],
   "source": [
    "X = data[:, :3]\n",
    "X[:5]"
   ]
  },
  {
   "cell_type": "code",
   "execution_count": 7,
   "metadata": {},
   "outputs": [],
   "source": [
    "y = data[:, 3]"
   ]
  },
  {
   "cell_type": "code",
   "execution_count": 8,
   "metadata": {},
   "outputs": [
    {
     "data": {
      "text/plain": [
       "array([22.1, 10.4, 12. , 16.5, 17.9])"
      ]
     },
     "execution_count": 8,
     "metadata": {},
     "output_type": "execute_result"
    }
   ],
   "source": [
    "y[:5]"
   ]
  },
  {
   "cell_type": "code",
   "execution_count": 9,
   "metadata": {},
   "outputs": [
    {
     "data": {
      "text/plain": [
       "array([[ 1.16270837],\n",
       "       [-0.81960489],\n",
       "       [ 1.39501033],\n",
       "       [ 0.29763545]])"
      ]
     },
     "execution_count": 9,
     "metadata": {},
     "output_type": "execute_result"
    }
   ],
   "source": [
    "thetas = np.asarray([[1.16270837], [-0.81960489], [1.39501033], [0.29763545]])\n",
    "thetas"
   ]
  },
  {
   "cell_type": "code",
   "execution_count": 10,
   "metadata": {},
   "outputs": [
    {
     "data": {
      "text/plain": [
       "200"
      ]
     },
     "execution_count": 10,
     "metadata": {},
     "output_type": "execute_result"
    }
   ],
   "source": [
    "N = X.shape[0]\n",
    "N"
   ]
  },
  {
   "cell_type": "code",
   "execution_count": null,
   "metadata": {},
   "outputs": [],
   "source": [
    "def stochastic_gradient_descent(X_b, y, n_epochs=50, learning_rate=0.00001):\n",
    "\n",
    "    # khởi tạo giá trị tham số\n",
    "    # thetas = np.random.randn(4, 1) # thực tế các bạn nên bỏ comment dòng này\n",
    "    thetas = np.asarray([[1.16270837], [-0.81960489],  [1.39501033],  [0.29763545]])\n",
    "\n",
    "    thetas_path = [thetas] # chuyển thành array\n",
    "    losses = []\n",
    "\n",
    "    for epoch in range(n_epochs):\n",
    "        for i in range(N):\n",
    "            random_index = i \n",
    "\n",
    "            xi = X_b[random_index:random_index+1]\n",
    "            yi = y[random_index:random_index+1]\n",
    "\n",
    "            # tính output\n",
    "            oi = xi.dot(thetas)\n",
    "\n",
    "            # tính loss li\n",
    "            li = (oi - yi)*(oi - yi) / 2\n",
    "\n",
    "            # tính gradient cho loss\n",
    "            g_li = (oi - yi)\n",
    "\n",
    "            # tính gradient\n",
    "            gradients = xi.T.dot(g_li)\n",
    "\n",
    "            # update giá trị theta\n",
    "            thetas = thetas - learning_rate*gradients\n",
    "\n",
    "            # logging\n",
    "            thetas_path.append(thetas)\n",
    "            losses.append(li[0][0])\n",
    "\n",
    "    return thetas_path, losses\n",
    "\n",
    "sgd_theta, losses = stochastic_gradient_descent(X_b, y, n_epochs=50, learning_rate=0.01 )\n",
    "\n",
    "# in loss cho 500 sample đầu\n",
    "x_axis = list(range(500))\n",
    "plt.plot(x_axis,losses[:500], color=\"r\")\n",
    "plt.show()"
   ]
  },
  {
   "cell_type": "code",
   "execution_count": 13,
   "metadata": {},
   "outputs": [
    {
     "data": {
      "text/plain": [
       "(200, 4)"
      ]
     },
     "execution_count": 13,
     "metadata": {},
     "output_type": "execute_result"
    }
   ],
   "source": [
    "X_b = np.c_[np.ones((N, 1)), X]\n",
    "X_b.shape"
   ]
  },
  {
   "cell_type": "code",
   "execution_count": 14,
   "metadata": {},
   "outputs": [
    {
     "ename": "ValueError",
     "evalue": "shapes (1,3) and (4,1) not aligned: 3 (dim 1) != 4 (dim 0)",
     "output_type": "error",
     "traceback": [
      "\u001b[1;31m---------------------------------------------------------------------------\u001b[0m",
      "\u001b[1;31mValueError\u001b[0m                                Traceback (most recent call last)",
      "Cell \u001b[1;32mIn[14], line 1\u001b[0m\n\u001b[1;32m----> 1\u001b[0m losses, log_theta \u001b[38;5;241m=\u001b[39m sgd(X, y, n_epochs\u001b[38;5;241m=\u001b[39m\u001b[38;5;241m50\u001b[39m, learning_rate\u001b[38;5;241m=\u001b[39m\u001b[38;5;241m0.00001\u001b[39m)\n",
      "Cell \u001b[1;32mIn[11], line 11\u001b[0m, in \u001b[0;36msgd\u001b[1;34m(X, y, n_epochs, learning_rate)\u001b[0m\n\u001b[0;32m      8\u001b[0m yi \u001b[38;5;241m=\u001b[39m y[i:i\u001b[38;5;241m+\u001b[39m\u001b[38;5;241m1\u001b[39m]\n\u001b[0;32m     10\u001b[0m \u001b[38;5;66;03m#predict\u001b[39;00m\n\u001b[1;32m---> 11\u001b[0m oi \u001b[38;5;241m=\u001b[39m xi\u001b[38;5;241m.\u001b[39mdot(thetas)\n\u001b[0;32m     13\u001b[0m \u001b[38;5;66;03m#loss\u001b[39;00m\n\u001b[0;32m     14\u001b[0m li \u001b[38;5;241m=\u001b[39m (oi\u001b[38;5;241m-\u001b[39myi)\u001b[38;5;241m*\u001b[39m(oi\u001b[38;5;241m-\u001b[39myi)\n",
      "\u001b[1;31mValueError\u001b[0m: shapes (1,3) and (4,1) not aligned: 3 (dim 1) != 4 (dim 0)"
     ]
    }
   ],
   "source": [
    "losses, log_theta = sgd(X, y, n_epochs=50, learning_rate=0.00001)"
   ]
  },
  {
   "cell_type": "code",
   "execution_count": null,
   "metadata": {},
   "outputs": [],
   "source": []
  }
 ],
 "metadata": {
  "kernelspec": {
   "display_name": "base",
   "language": "python",
   "name": "python3"
  },
  "language_info": {
   "codemirror_mode": {
    "name": "ipython",
    "version": 3
   },
   "file_extension": ".py",
   "mimetype": "text/x-python",
   "name": "python",
   "nbconvert_exporter": "python",
   "pygments_lexer": "ipython3",
   "version": "3.11.7"
  }
 },
 "nbformat": 4,
 "nbformat_minor": 2
}
