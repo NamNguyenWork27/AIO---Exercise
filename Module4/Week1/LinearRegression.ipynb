{
 "cells": [
  {
   "cell_type": "code",
   "execution_count": 2,
   "metadata": {},
   "outputs": [],
   "source": [
    "import numpy as np\n",
    "import matplotlib.pyplot as plt\n",
    "import random\n",
    "\n",
    "def get_column(data, index):\n",
    "    result = [row[index] for row in data]    \n",
    "    return result\n",
    "\n",
    "def prepare_data(file_name_dataset):\n",
    "  data = np.genfromtxt(file_name_dataset, delimiter=',', skip_header=1).tolist()\n",
    "  N = len(data)\n",
    "\n",
    "  tv_data = get_column(data, 0)\n",
    "\n",
    "  radio_data = get_column(data, 1)\n",
    "\n",
    "  newspaper_data = get_column(data, 2)\n",
    "\n",
    "  sales_data = get_column(data, 3)\n",
    "\n",
    "  X = [tv_data, radio_data, newspaper_data]\n",
    "  y = sales_data\n",
    "  return X,y"
   ]
  },
  {
   "cell_type": "code",
   "execution_count": 4,
   "metadata": {},
   "outputs": [
    {
     "name": "stdout",
     "output_type": "stream",
     "text": [
      "[624.1, 175.10000000000002, 300.5, 78.9]\n"
     ]
    }
   ],
   "source": [
    "X,y = prepare_data('advertising.csv')\n",
    "list = [sum(X[0][:5]), sum(X[1][:5]), sum(X[2][:5]), sum(y[:5])]\n",
    "print(list)"
   ]
  },
  {
   "cell_type": "code",
   "execution_count": 5,
   "metadata": {},
   "outputs": [],
   "source": [
    "def predict(x1, x2, x3, w1, w2, w3, b):      \n",
    "    \n",
    "    return result\n",
    "\n",
    "def compute_loss_mse(y_hat, y):\n",
    "\n",
    "        \n",
    "\n",
    "    return result\n",
    "\n",
    "def compute_loss_mae(y_hat, y):\n",
    "\n",
    "        \n",
    "\n",
    "    return result\n",
    "\n",
    "def compute_gradient_wi(xi, y, y_hat):\n",
    "\n",
    "    return dl_dwi \n",
    "\n",
    "def compute_gradient_b(y, y_hat):\n",
    "\n",
    "    return dl_db\n",
    "\n",
    "def update_weight_wi(wi, dl_dwi, lr):\n",
    "\n",
    "    return wi\n",
    "    \n",
    "def update_weight_b(b, dl_db, lr):    \n",
    "\n",
    "    return b"
   ]
  },
  {
   "cell_type": "code",
   "execution_count": 6,
   "metadata": {},
   "outputs": [],
   "source": [
    "def initialize_params():\n",
    "    b, w1, w2, w3 = (0, 0.016992259082509283, 0.0070783670518262355, -0.002307860847821344)\n",
    "    return [bias, w1, w2, w3] "
   ]
  },
  {
   "cell_type": "code",
   "execution_count": null,
   "metadata": {},
   "outputs": [],
   "source": []
  }
 ],
 "metadata": {
  "kernelspec": {
   "display_name": "base",
   "language": "python",
   "name": "python3"
  },
  "language_info": {
   "codemirror_mode": {
    "name": "ipython",
    "version": 3
   },
   "file_extension": ".py",
   "mimetype": "text/x-python",
   "name": "python",
   "nbconvert_exporter": "python",
   "pygments_lexer": "ipython3",
   "version": "3.11.7"
  }
 },
 "nbformat": 4,
 "nbformat_minor": 2
}
